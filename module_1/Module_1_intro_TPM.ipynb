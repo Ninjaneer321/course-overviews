{
  "nbformat": 4,
  "nbformat_minor": 0,
  "metadata": {
    "kernelspec": {
      "display_name": "Python 3",
      "language": "python",
      "name": "python3"
    },
    "language_info": {
      "codemirror_mode": {
        "name": "ipython",
        "version": 3
      },
      "file_extension": ".py",
      "mimetype": "text/x-python",
      "name": "python",
      "nbconvert_exporter": "python",
      "pygments_lexer": "ipython3",
      "version": "3.7.4"
    },
    "colab": {
      "name": "Copy of Module_1_intro.ipynb",
      "provenance": [],
      "toc_visible": true
    }
  },
  "cells": [
    {
      "cell_type": "markdown",
      "metadata": {
        "id": "cpfH4L4DoFpB",
        "colab_type": "text"
      },
      "source": [
        "# ERDS 1 Model 1 - Intro to Python"
      ]
    },
    {
      "cell_type": "markdown",
      "metadata": {
        "id": "huAlNPfZoNXR",
        "colab_type": "text"
      },
      "source": [
        "Text will go here on time alotted, some google Colab notes (?) and emails, office hours, etc."
      ]
    },
    {
      "cell_type": "markdown",
      "metadata": {
        "id": "QYtWbgkcgrLJ",
        "colab_type": "text"
      },
      "source": [
        "##  Introduction into using Python in a Google Colab notebook"
      ]
    },
    {
      "cell_type": "markdown",
      "metadata": {
        "id": "0lMOJgJUohXL",
        "colab_type": "text"
      },
      "source": [
        "Python has specific ways of storing, interacting and working with data. It also has some built in math functions. Is it standard practice to put a space between the number and the operator."
      ]
    },
    {
      "cell_type": "code",
      "metadata": {
        "id": "4l_m-GehgrLL",
        "colab_type": "code",
        "colab": {
          "base_uri": "https://localhost:8080/",
          "height": 35
        },
        "outputId": "9d5b8f20-3d49-49ec-a12c-3888340864c3"
      },
      "source": [
        "2 * 2"
      ],
      "execution_count": 1,
      "outputs": [
        {
          "output_type": "execute_result",
          "data": {
            "text/plain": [
              "4"
            ]
          },
          "metadata": {
            "tags": []
          },
          "execution_count": 1
        }
      ]
    },
    {
      "cell_type": "markdown",
      "metadata": {
        "id": "IxRScKk3pR1u",
        "colab_type": "text"
      },
      "source": [
        "If we want to put a comment in a code block, lead with a hashtag #, in Matlab this would be a %."
      ]
    },
    {
      "cell_type": "code",
      "metadata": {
        "id": "ZkjBBnMFpN9e",
        "colab_type": "code",
        "colab": {
          "base_uri": "https://localhost:8080/",
          "height": 35
        },
        "outputId": "a127622e-d631-422f-e77b-39b60d77e0ab"
      },
      "source": [
        "# While this will work, it is not as easy to read for some\n",
        "2*2"
      ],
      "execution_count": 2,
      "outputs": [
        {
          "output_type": "execute_result",
          "data": {
            "text/plain": [
              "4"
            ]
          },
          "metadata": {
            "tags": []
          },
          "execution_count": 2
        }
      ]
    },
    {
      "cell_type": "code",
      "metadata": {
        "id": "CQ0KMOGOprvD",
        "colab_type": "code",
        "colab": {}
      },
      "source": [
        "# 4 + 3"
      ],
      "execution_count": 3,
      "outputs": []
    },
    {
      "cell_type": "markdown",
      "metadata": {
        "id": "c4hScn60pu_6",
        "colab_type": "text"
      },
      "source": [
        "Did anything happen when you ran the previous block? You can put anything behind a #. If you remove it, will it run?"
      ]
    },
    {
      "cell_type": "code",
      "metadata": {
        "id": "WlY03RIbgrLS",
        "colab_type": "code",
        "colab": {
          "base_uri": "https://localhost:8080/",
          "height": 35
        },
        "outputId": "a5d608c7-6c0e-4de9-eff4-c06fea927d39"
      },
      "source": [
        "3 + 2"
      ],
      "execution_count": 4,
      "outputs": [
        {
          "output_type": "execute_result",
          "data": {
            "text/plain": [
              "5"
            ]
          },
          "metadata": {
            "tags": []
          },
          "execution_count": 4
        }
      ]
    },
    {
      "cell_type": "markdown",
      "metadata": {
        "id": "OI78iFK8pAiC",
        "colab_type": "text"
      },
      "source": [
        "Variable names always lead the operator with one equals sign. Doing it in reverse does not work. This is a hard rule in python."
      ]
    },
    {
      "cell_type": "code",
      "metadata": {
        "id": "SjIJ9ZExgrLV",
        "colab_type": "code",
        "colab": {
          "base_uri": "https://localhost:8080/",
          "height": 136
        },
        "outputId": "a0054c5b-6f1a-4178-f51b-4c77db8e4310"
      },
      "source": [
        "2 + 3 = a"
      ],
      "execution_count": 5,
      "outputs": [
        {
          "output_type": "error",
          "ename": "SyntaxError",
          "evalue": "ignored",
          "traceback": [
            "\u001b[0;36m  File \u001b[0;32m\"<ipython-input-5-8e90d71a071c>\"\u001b[0;36m, line \u001b[0;32m1\u001b[0m\n\u001b[0;31m    2 + 3 = a\u001b[0m\n\u001b[0m             ^\u001b[0m\n\u001b[0;31mSyntaxError\u001b[0m\u001b[0;31m:\u001b[0m can't assign to operator\n"
          ]
        }
      ]
    },
    {
      "cell_type": "code",
      "metadata": {
        "id": "-G8SWq5sgrLX",
        "colab_type": "code",
        "colab": {}
      },
      "source": [
        "a = 2 + 3\n",
        "a"
      ],
      "execution_count": null,
      "outputs": []
    },
    {
      "cell_type": "markdown",
      "metadata": {
        "id": "xM2Ta9HQsVOO",
        "colab_type": "text"
      },
      "source": [
        "Leading with a number is also not allowed, but leading with a letter and then using a number is totally fine."
      ]
    },
    {
      "cell_type": "code",
      "metadata": {
        "id": "rn1RgoLotJ08",
        "colab_type": "code",
        "colab": {}
      },
      "source": [
        "4ever = 2 * 4\n",
        "4ever"
      ],
      "execution_count": null,
      "outputs": []
    },
    {
      "cell_type": "code",
      "metadata": {
        "id": "Pajx2rWdsRzA",
        "colab_type": "code",
        "colab": {
          "base_uri": "https://localhost:8080/",
          "height": 35
        },
        "outputId": "9d72613a-c974-4f35-c961-4ecd60e7a1cd"
      },
      "source": [
        "ever4 = 2 * 4\n",
        "ever4"
      ],
      "execution_count": 6,
      "outputs": [
        {
          "output_type": "execute_result",
          "data": {
            "text/plain": [
              "8"
            ]
          },
          "metadata": {
            "tags": []
          },
          "execution_count": 6
        }
      ]
    },
    {
      "cell_type": "markdown",
      "metadata": {
        "id": "Or2l6_NagrLc",
        "colab_type": "text"
      },
      "source": [
        "# Parentheses and Data Types"
      ]
    },
    {
      "cell_type": "markdown",
      "metadata": {
        "id": "GaXGiFLKuNf7",
        "colab_type": "text"
      },
      "source": [
        "There are more than a few different types of parenthesis and formatting of data types that are for different uses. We will go into some of the more common ones here. "
      ]
    },
    {
      "cell_type": "markdown",
      "metadata": {
        "id": "xu-IVThCvUgT",
        "colab_type": "text"
      },
      "source": [
        "### Lists"
      ]
    },
    {
      "cell_type": "markdown",
      "metadata": {
        "id": "sci4rvuzvei7",
        "colab_type": "text"
      },
      "source": [
        "Lists are really common, and a great way to store data that you might add something to, and are flexiable. I use lists a lot! "
      ]
    },
    {
      "cell_type": "code",
      "metadata": {
        "id": "k-ilOSatvO9p",
        "colab_type": "code",
        "colab": {
          "base_uri": "https://localhost:8080/",
          "height": 35
        },
        "outputId": "f53329ad-8aef-4dba-fedc-1ea0b24beca1"
      },
      "source": [
        "a_list = [2, 3, 7]\n",
        "a_list"
      ],
      "execution_count": 7,
      "outputs": [
        {
          "output_type": "execute_result",
          "data": {
            "text/plain": [
              "[2, 3, 7]"
            ]
          },
          "metadata": {
            "tags": []
          },
          "execution_count": 7
        }
      ]
    },
    {
      "cell_type": "code",
      "metadata": {
        "id": "ysg5M6ijvZmj",
        "colab_type": "code",
        "colab": {
          "base_uri": "https://localhost:8080/",
          "height": 35
        },
        "outputId": "b80ff71e-151b-4585-be09-0514be7134e0"
      },
      "source": [
        "a_list[0] # note, python starts counting from 0, and not 1"
      ],
      "execution_count": 8,
      "outputs": [
        {
          "output_type": "execute_result",
          "data": {
            "text/plain": [
              "2"
            ]
          },
          "metadata": {
            "tags": []
          },
          "execution_count": 8
        }
      ]
    },
    {
      "cell_type": "markdown",
      "metadata": {
        "id": "eVkvBc2Ywpy2",
        "colab_type": "text"
      },
      "source": [
        "If you want to add something to the list, you can use the append function. "
      ]
    },
    {
      "cell_type": "code",
      "metadata": {
        "id": "XnNg3nMbwo7n",
        "colab_type": "code",
        "colab": {
          "base_uri": "https://localhost:8080/",
          "height": 35
        },
        "outputId": "5ead917e-7770-4f29-f896-8aefb60734aa"
      },
      "source": [
        "a_list.append(27)\n",
        "a_list"
      ],
      "execution_count": 9,
      "outputs": [
        {
          "output_type": "execute_result",
          "data": {
            "text/plain": [
              "[2, 3, 7, 27]"
            ]
          },
          "metadata": {
            "tags": []
          },
          "execution_count": 9
        }
      ]
    },
    {
      "cell_type": "markdown",
      "metadata": {
        "id": "s1Mchi7iwyCy",
        "colab_type": "text"
      },
      "source": [
        "This is one of the biggest differences compared to a tuple. Lists can change (added, subtracted, appended, etc.) while tuples can't. Tuples are also a little faster. "
      ]
    },
    {
      "cell_type": "markdown",
      "metadata": {
        "id": "vdfVltxPxFfE",
        "colab_type": "text"
      },
      "source": [
        "## Tuples"
      ]
    },
    {
      "cell_type": "markdown",
      "metadata": {
        "id": "CLFUx_tXxJMA",
        "colab_type": "text"
      },
      "source": [
        "Tuples are great for things that you want to never change. Generally I rarely use them, as I am always changing stuff around. "
      ]
    },
    {
      "cell_type": "code",
      "metadata": {
        "id": "JK1efkEKwxdQ",
        "colab_type": "code",
        "colab": {
          "base_uri": "https://localhost:8080/",
          "height": 35
        },
        "outputId": "7d541882-bd2e-4fce-abb5-be32be057e51"
      },
      "source": [
        "tup1 = 1, 2, 3\n",
        "tup1"
      ],
      "execution_count": 10,
      "outputs": [
        {
          "output_type": "execute_result",
          "data": {
            "text/plain": [
              "(1, 2, 3)"
            ]
          },
          "metadata": {
            "tags": []
          },
          "execution_count": 10
        }
      ]
    },
    {
      "cell_type": "code",
      "metadata": {
        "id": "UmmSSBixzRgS",
        "colab_type": "code",
        "colab": {
          "base_uri": "https://localhost:8080/",
          "height": 35
        },
        "outputId": "1dfddd92-ae00-41d7-f046-2f20cfc62745"
      },
      "source": [
        "a, b, c = tup1\n",
        "b"
      ],
      "execution_count": 11,
      "outputs": [
        {
          "output_type": "execute_result",
          "data": {
            "text/plain": [
              "2"
            ]
          },
          "metadata": {
            "tags": []
          },
          "execution_count": 11
        }
      ]
    },
    {
      "cell_type": "code",
      "metadata": {
        "id": "tbjJ-BwuyE5n",
        "colab_type": "code",
        "colab": {
          "base_uri": "https://localhost:8080/",
          "height": 35
        },
        "outputId": "0dde1871-a73a-42d7-e3d2-ea193f98a0ac"
      },
      "source": [
        "tup1[0]"
      ],
      "execution_count": 12,
      "outputs": [
        {
          "output_type": "execute_result",
          "data": {
            "text/plain": [
              "1"
            ]
          },
          "metadata": {
            "tags": []
          },
          "execution_count": 12
        }
      ]
    },
    {
      "cell_type": "code",
      "metadata": {
        "id": "1YkCPNxWyJHt",
        "colab_type": "code",
        "colab": {
          "base_uri": "https://localhost:8080/",
          "height": 191
        },
        "outputId": "1834200f-ee6a-4160-ad49-466049a8956a"
      },
      "source": [
        "tup1.append(2)\n",
        "tup1"
      ],
      "execution_count": 13,
      "outputs": [
        {
          "output_type": "error",
          "ename": "AttributeError",
          "evalue": "ignored",
          "traceback": [
            "\u001b[0;31m---------------------------------------------------------------------------\u001b[0m",
            "\u001b[0;31mAttributeError\u001b[0m                            Traceback (most recent call last)",
            "\u001b[0;32m<ipython-input-13-a2973608916f>\u001b[0m in \u001b[0;36m<module>\u001b[0;34m()\u001b[0m\n\u001b[0;32m----> 1\u001b[0;31m \u001b[0mtup1\u001b[0m\u001b[0;34m.\u001b[0m\u001b[0mappend\u001b[0m\u001b[0;34m(\u001b[0m\u001b[0;36m2\u001b[0m\u001b[0;34m)\u001b[0m\u001b[0;34m\u001b[0m\u001b[0;34m\u001b[0m\u001b[0m\n\u001b[0m\u001b[1;32m      2\u001b[0m \u001b[0mtup1\u001b[0m\u001b[0;34m\u001b[0m\u001b[0;34m\u001b[0m\u001b[0m\n",
            "\u001b[0;31mAttributeError\u001b[0m: 'tuple' object has no attribute 'append'"
          ]
        }
      ]
    },
    {
      "cell_type": "markdown",
      "metadata": {
        "id": "cKq9ZhggyS8F",
        "colab_type": "text"
      },
      "source": [
        "This lack of append is a big difference compared to a list!"
      ]
    },
    {
      "cell_type": "markdown",
      "metadata": {
        "id": "mfo5iGUpx8U4",
        "colab_type": "text"
      },
      "source": [
        "You can nest tuples"
      ]
    },
    {
      "cell_type": "code",
      "metadata": {
        "id": "mjpWhrqJx7wI",
        "colab_type": "code",
        "colab": {
          "base_uri": "https://localhost:8080/",
          "height": 35
        },
        "outputId": "0fb64e3b-95aa-4b27-fc9b-690db42b780a"
      },
      "source": [
        "nested_tup = (4, 5, 6), (7, 8)\n",
        "nested_tup"
      ],
      "execution_count": 14,
      "outputs": [
        {
          "output_type": "execute_result",
          "data": {
            "text/plain": [
              "((4, 5, 6), (7, 8))"
            ]
          },
          "metadata": {
            "tags": []
          },
          "execution_count": 14
        }
      ]
    },
    {
      "cell_type": "markdown",
      "metadata": {
        "id": "FVuEaaytzefc",
        "colab_type": "text"
      },
      "source": [
        "Even without the ability to modfiy tuples, it does have some methods you can use (a method is a variable .method_name)."
      ]
    },
    {
      "cell_type": "code",
      "metadata": {
        "id": "X5zAwQJpzWx5",
        "colab_type": "code",
        "colab": {
          "base_uri": "https://localhost:8080/",
          "height": 35
        },
        "outputId": "afe9e4bd-5bcb-48e1-f4ae-ce63704f822b"
      },
      "source": [
        "tup1.count(2)"
      ],
      "execution_count": 15,
      "outputs": [
        {
          "output_type": "execute_result",
          "data": {
            "text/plain": [
              "1"
            ]
          },
          "metadata": {
            "tags": []
          },
          "execution_count": 15
        }
      ]
    },
    {
      "cell_type": "markdown",
      "metadata": {
        "id": "2ON8pjjP70XE",
        "colab_type": "text"
      },
      "source": [
        "## Dictionarys"
      ]
    },
    {
      "cell_type": "markdown",
      "metadata": {
        "id": "WLgD10mh729Q",
        "colab_type": "text"
      },
      "source": [
        "Dictionarys are great. After lists, I probably use them the most. "
      ]
    },
    {
      "cell_type": "code",
      "metadata": {
        "id": "qyo9fFqiyD0a",
        "colab_type": "code",
        "colab": {
          "base_uri": "https://localhost:8080/",
          "height": 35
        },
        "outputId": "92308c90-a043-46ab-b31e-91c1f6b6d955"
      },
      "source": [
        "a_dict = {'a': 'rad', 'b':'cool', 'c':'sweet'}\n",
        "a_dict"
      ],
      "execution_count": 16,
      "outputs": [
        {
          "output_type": "execute_result",
          "data": {
            "text/plain": [
              "{'a': 'rad', 'b': 'cool', 'c': 'sweet'}"
            ]
          },
          "metadata": {
            "tags": []
          },
          "execution_count": 16
        }
      ]
    },
    {
      "cell_type": "code",
      "metadata": {
        "id": "iepT22e7grLc",
        "colab_type": "code",
        "colab": {
          "base_uri": "https://localhost:8080/",
          "height": 36
        },
        "outputId": "fffb32ee-9bc5-4163-ec35-6df506455dc6"
      },
      "source": [
        "a_dict['b']"
      ],
      "execution_count": 17,
      "outputs": [
        {
          "output_type": "execute_result",
          "data": {
            "application/vnd.google.colaboratory.intrinsic": {
              "type": "string"
            },
            "text/plain": [
              "'cool'"
            ]
          },
          "metadata": {
            "tags": []
          },
          "execution_count": 17
        }
      ]
    },
    {
      "cell_type": "markdown",
      "metadata": {
        "id": "XZT9zbVl8Xx7",
        "colab_type": "text"
      },
      "source": [
        "Dictionaries are useful in geoscience for mapping short hand or munging data. You can add to dictionaries after you make them."
      ]
    },
    {
      "cell_type": "code",
      "metadata": {
        "id": "U968vyBugrLe",
        "colab_type": "code",
        "colab": {
          "base_uri": "https://localhost:8080/",
          "height": 35
        },
        "outputId": "15e47858-c2ef-459f-c00d-b05a6cc0261f"
      },
      "source": [
        "a_dict['d'] = 'CoolerRado'\n",
        "a_dict"
      ],
      "execution_count": null,
      "outputs": [
        {
          "output_type": "execute_result",
          "data": {
            "text/plain": [
              "{'a': 'rad', 'b': 'cool', 'c': 'sweet', 'd': 'CoolerRado'}"
            ]
          },
          "metadata": {
            "tags": []
          },
          "execution_count": 48
        }
      ]
    },
    {
      "cell_type": "markdown",
      "metadata": {
        "id": "DW-9d6Xe_GP0",
        "colab_type": "text"
      },
      "source": [
        "Can change the value of a previously mapped "
      ]
    },
    {
      "cell_type": "code",
      "metadata": {
        "id": "fXJcFYpq_FHX",
        "colab_type": "code",
        "colab": {
          "base_uri": "https://localhost:8080/",
          "height": 35
        },
        "outputId": "933bc948-6586-455e-e140-149f71e94463"
      },
      "source": [
        "a_dict['a'] = 'blaster'\n",
        "a_dict"
      ],
      "execution_count": 18,
      "outputs": [
        {
          "output_type": "execute_result",
          "data": {
            "text/plain": [
              "{'a': 'blaster', 'b': 'cool', 'c': 'sweet'}"
            ]
          },
          "metadata": {
            "tags": []
          },
          "execution_count": 18
        }
      ]
    },
    {
      "cell_type": "markdown",
      "metadata": {
        "id": "hHBVWJ7pFcbF",
        "colab_type": "text"
      },
      "source": [
        "You can remove a value using the pop method"
      ]
    },
    {
      "cell_type": "code",
      "metadata": {
        "id": "7SwsHmNRFL_y",
        "colab_type": "code",
        "colab": {
          "base_uri": "https://localhost:8080/",
          "height": 173
        },
        "outputId": "144f35c1-e845-47fc-ea5b-b485be5017c3"
      },
      "source": [
        "a_dict.pop('a')"
      ],
      "execution_count": 23,
      "outputs": [
        {
          "output_type": "error",
          "ename": "KeyError",
          "evalue": "ignored",
          "traceback": [
            "\u001b[0;31m---------------------------------------------------------------------------\u001b[0m",
            "\u001b[0;31mKeyError\u001b[0m                                  Traceback (most recent call last)",
            "\u001b[0;32m<ipython-input-23-8a6f51998910>\u001b[0m in \u001b[0;36m<module>\u001b[0;34m()\u001b[0m\n\u001b[0;32m----> 1\u001b[0;31m \u001b[0ma_dict\u001b[0m\u001b[0;34m.\u001b[0m\u001b[0mpop\u001b[0m\u001b[0;34m(\u001b[0m\u001b[0;34m'a'\u001b[0m\u001b[0;34m)\u001b[0m\u001b[0;34m\u001b[0m\u001b[0;34m\u001b[0m\u001b[0m\n\u001b[0m",
            "\u001b[0;31mKeyError\u001b[0m: 'a'"
          ]
        }
      ]
    },
    {
      "cell_type": "code",
      "metadata": {
        "id": "wYE5dnArFa8q",
        "colab_type": "code",
        "colab": {
          "base_uri": "https://localhost:8080/",
          "height": 35
        },
        "outputId": "cf43fc60-5f32-47d8-8dd0-f78270c0dd7a"
      },
      "source": [
        "a_dict"
      ],
      "execution_count": 24,
      "outputs": [
        {
          "output_type": "execute_result",
          "data": {
            "text/plain": [
              "{'b': 'cool', 'c': 'sweet'}"
            ]
          },
          "metadata": {
            "tags": []
          },
          "execution_count": 24
        }
      ]
    },
    {
      "cell_type": "markdown",
      "metadata": {
        "id": "s-oYANddgrLl",
        "colab_type": "text"
      },
      "source": [
        "# Numbers"
      ]
    },
    {
      "cell_type": "markdown",
      "metadata": {
        "id": "QD_NXPd_OJK5",
        "colab_type": "text"
      },
      "source": [
        "There are two main types of numbers, floats an integers."
      ]
    },
    {
      "cell_type": "code",
      "metadata": {
        "id": "jgOO8bZ4Fiu7",
        "colab_type": "code",
        "colab": {
          "base_uri": "https://localhost:8080/",
          "height": 35
        },
        "outputId": "89677683-9117-4c44-fb54-678febca20e5"
      },
      "source": [
        "x = 3\n",
        "type(x)"
      ],
      "execution_count": 26,
      "outputs": [
        {
          "output_type": "execute_result",
          "data": {
            "text/plain": [
              "int"
            ]
          },
          "metadata": {
            "tags": []
          },
          "execution_count": 26
        }
      ]
    },
    {
      "cell_type": "code",
      "metadata": {
        "id": "jxoMRB__grLu",
        "colab_type": "code",
        "colab": {
          "base_uri": "https://localhost:8080/",
          "height": 35
        },
        "outputId": "bb223849-807f-494a-946b-50a4c3a28356"
      },
      "source": [
        "y = 3.2\n",
        "type(y)"
      ],
      "execution_count": 27,
      "outputs": [
        {
          "output_type": "execute_result",
          "data": {
            "text/plain": [
              "float"
            ]
          },
          "metadata": {
            "tags": []
          },
          "execution_count": 27
        }
      ]
    },
    {
      "cell_type": "code",
      "metadata": {
        "id": "GgdzlkDZOQkB",
        "colab_type": "code",
        "colab": {
          "base_uri": "https://localhost:8080/",
          "height": 35
        },
        "outputId": "91f026ef-2dbc-47b3-b2a7-dcdf229af41b"
      },
      "source": [
        "z = 3.0\n",
        "type(z)"
      ],
      "execution_count": 28,
      "outputs": [
        {
          "output_type": "execute_result",
          "data": {
            "text/plain": [
              "float"
            ]
          },
          "metadata": {
            "tags": []
          },
          "execution_count": 28
        }
      ]
    },
    {
      "cell_type": "markdown",
      "metadata": {
        "id": "eD9vZUZzgrL6",
        "colab_type": "text"
      },
      "source": [
        "# Strings"
      ]
    },
    {
      "cell_type": "code",
      "metadata": {
        "id": "f7BrcJF6grL6",
        "colab_type": "code",
        "colab": {}
      },
      "source": [
        "a = 'this is a string'"
      ],
      "execution_count": 30,
      "outputs": []
    },
    {
      "cell_type": "code",
      "metadata": {
        "id": "Xak6AnvGgrL7",
        "colab_type": "code",
        "colab": {
          "base_uri": "https://localhost:8080/",
          "height": 35
        },
        "outputId": "b5e1d525-d27e-4307-e5ee-d09074f26be7"
      },
      "source": [
        "type(a)"
      ],
      "execution_count": 31,
      "outputs": [
        {
          "output_type": "execute_result",
          "data": {
            "text/plain": [
              "str"
            ]
          },
          "metadata": {
            "tags": []
          },
          "execution_count": 31
        }
      ]
    },
    {
      "cell_type": "code",
      "metadata": {
        "scrolled": true,
        "id": "zQSMEh1VgrL8",
        "colab_type": "code",
        "colab": {
          "base_uri": "https://localhost:8080/",
          "height": 36
        },
        "outputId": "6bb6533e-b91c-42bc-8e44-828ac478172a"
      },
      "source": [
        "a[0:3] # indexing works with strings too"
      ],
      "execution_count": 32,
      "outputs": [
        {
          "output_type": "execute_result",
          "data": {
            "application/vnd.google.colaboratory.intrinsic": {
              "type": "string"
            },
            "text/plain": [
              "'thi'"
            ]
          },
          "metadata": {
            "tags": []
          },
          "execution_count": 32
        }
      ]
    },
    {
      "cell_type": "code",
      "metadata": {
        "scrolled": true,
        "id": "gnSmNO3LgrL8",
        "colab_type": "code",
        "colab": {
          "base_uri": "https://localhost:8080/",
          "height": 173
        },
        "outputId": "c04cbd6b-f72f-4147-9ff6-d89f0be874e3"
      },
      "source": [
        "a.sort() # why does this error?"
      ],
      "execution_count": 33,
      "outputs": [
        {
          "output_type": "error",
          "ename": "AttributeError",
          "evalue": "ignored",
          "traceback": [
            "\u001b[0;31m---------------------------------------------------------------------------\u001b[0m",
            "\u001b[0;31mAttributeError\u001b[0m                            Traceback (most recent call last)",
            "\u001b[0;32m<ipython-input-33-3999cb3700d0>\u001b[0m in \u001b[0;36m<module>\u001b[0;34m()\u001b[0m\n\u001b[0;32m----> 1\u001b[0;31m \u001b[0ma\u001b[0m\u001b[0;34m.\u001b[0m\u001b[0msort\u001b[0m\u001b[0;34m(\u001b[0m\u001b[0;34m)\u001b[0m \u001b[0;31m# why does this error?\u001b[0m\u001b[0;34m\u001b[0m\u001b[0;34m\u001b[0m\u001b[0m\n\u001b[0m",
            "\u001b[0;31mAttributeError\u001b[0m: 'str' object has no attribute 'sort'"
          ]
        }
      ]
    },
    {
      "cell_type": "code",
      "metadata": {
        "id": "qX2Pal1-grL9",
        "colab_type": "code",
        "colab": {
          "base_uri": "https://localhost:8080/",
          "height": 173
        },
        "outputId": "12ba4b8e-20c0-4ad3-ee33-d67a32df435b"
      },
      "source": [
        "a[0]='T' # why does this error? "
      ],
      "execution_count": 34,
      "outputs": [
        {
          "output_type": "error",
          "ename": "TypeError",
          "evalue": "ignored",
          "traceback": [
            "\u001b[0;31m---------------------------------------------------------------------------\u001b[0m",
            "\u001b[0;31mTypeError\u001b[0m                                 Traceback (most recent call last)",
            "\u001b[0;32m<ipython-input-34-cd5a6eb47b3d>\u001b[0m in \u001b[0;36m<module>\u001b[0;34m()\u001b[0m\n\u001b[0;32m----> 1\u001b[0;31m \u001b[0ma\u001b[0m\u001b[0;34m[\u001b[0m\u001b[0;36m0\u001b[0m\u001b[0;34m]\u001b[0m\u001b[0;34m=\u001b[0m\u001b[0;34m'T'\u001b[0m \u001b[0;31m# why does this error?\u001b[0m\u001b[0;34m\u001b[0m\u001b[0;34m\u001b[0m\u001b[0m\n\u001b[0m",
            "\u001b[0;31mTypeError\u001b[0m: 'str' object does not support item assignment"
          ]
        }
      ]
    },
    {
      "cell_type": "markdown",
      "metadata": {
        "id": "wyUwXtTJOhTN",
        "colab_type": "text"
      },
      "source": [
        "You can also split strings up"
      ]
    },
    {
      "cell_type": "code",
      "metadata": {
        "id": "uNyTZqAugrL-",
        "colab_type": "code",
        "colab": {}
      },
      "source": [
        "b=a.split(' ') # split is a built-in method of a string"
      ],
      "execution_count": 37,
      "outputs": []
    },
    {
      "cell_type": "code",
      "metadata": {
        "id": "dYsOE6xQgrL_",
        "colab_type": "code",
        "colab": {
          "base_uri": "https://localhost:8080/",
          "height": 35
        },
        "outputId": "f0f8fefd-2e28-4f67-8d38-e530223a158d"
      },
      "source": [
        "b"
      ],
      "execution_count": 38,
      "outputs": [
        {
          "output_type": "execute_result",
          "data": {
            "text/plain": [
              "['this', 'is', 'a', 'string']"
            ]
          },
          "metadata": {
            "tags": []
          },
          "execution_count": 38
        }
      ]
    },
    {
      "cell_type": "code",
      "metadata": {
        "id": "1B80EgSVgrMA",
        "colab_type": "code",
        "colab": {}
      },
      "source": [
        "# try splitting using an i or an a and display the results"
      ],
      "execution_count": null,
      "outputs": []
    },
    {
      "cell_type": "code",
      "metadata": {
        "id": "q572Z7qVgrMB",
        "colab_type": "code",
        "colab": {}
      },
      "source": [
        ""
      ],
      "execution_count": null,
      "outputs": []
    },
    {
      "cell_type": "markdown",
      "metadata": {
        "id": "B9XFHMIqgrMC",
        "colab_type": "text"
      },
      "source": [
        "fin!\n",
        "\n"
      ]
    }
  ]
}